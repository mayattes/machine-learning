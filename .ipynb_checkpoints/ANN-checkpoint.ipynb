{
 "cells": [
  {
   "cell_type": "code",
   "execution_count": 7,
   "id": "f1e0c61e",
   "metadata": {},
   "outputs": [],
   "source": [
    "import numpy as np"
   ]
  },
  {
   "cell_type": "code",
   "execution_count": 11,
   "id": "59544d76",
   "metadata": {},
   "outputs": [],
   "source": [
    "def lin(b, w, x):\n",
    "    y = 0\n",
    "    for xi, wi in zip(x, w):\n",
    "        y += xi*wi\n",
    "    y += b\n",
    "    return y\n",
    "\n",
    "def sigmoid(x):\n",
    "    s = 1/(1 + np.exp(-x))\n",
    "    return s\n",
    "\n",
    "def neurone(b, w, x):\n",
    "    y = lin(b, w, x)\n",
    "    z = sigmoid(y)\n",
    "    return z"
   ]
  },
  {
   "cell_type": "code",
   "execution_count": 15,
   "id": "e5d4e38f",
   "metadata": {},
   "outputs": [
    {
     "data": {
      "text/plain": [
       "0.00040956716498605005"
      ]
     },
     "execution_count": 15,
     "metadata": {},
     "output_type": "execute_result"
    }
   ],
   "source": [
    "x = [1, -100, 1]\n",
    "w = [0.1, 0.1, 0.1]\n",
    "b = 2\n",
    "\n",
    "z = neurone(b, w, x)\n",
    "z"
   ]
  },
  {
   "cell_type": "code",
   "execution_count": 29,
   "id": "9678eef3",
   "metadata": {},
   "outputs": [],
   "source": [
    "def reseau_neurone(x, Wh, bh, Wo, bo, nh, no):\n",
    "    yh = []\n",
    "    for i in range(nh):\n",
    "        b = bh[i]\n",
    "        w = Wh[i,:]\n",
    "        Y_ = neurone(b, w, x)\n",
    "        yh.append(Y_)\n",
    " \n",
    "    z = []\n",
    "    for i in range(no ):\n",
    "        b = bo[i]\n",
    "        w = Wo[i,:]\n",
    "        z_ = neurone(b, w, yh )\n",
    "        z.append(z_)\n",
    "    return z"
   ]
  },
  {
   "cell_type": "code",
   "execution_count": 34,
   "id": "34cae04e",
   "metadata": {},
   "outputs": [],
   "source": [
    "ni = 3\n",
    "nh = 100\n",
    "no = 4\n",
    "x = [1, 1, 1]\n",
    "\n",
    "Wh = np.random.rand(nh, ni)\n",
    "bh = np.random.rand(nh)\n",
    "Wo = np.random.rand(no, nh)\n",
    "bo = np.random.rand(no) "
   ]
  },
  {
   "cell_type": "code",
   "execution_count": 35,
   "id": "7c4296bd",
   "metadata": {},
   "outputs": [
    {
     "data": {
      "text/plain": [
       "[1.0, 1.0, 1.0, 1.0]"
      ]
     },
     "execution_count": 35,
     "metadata": {},
     "output_type": "execute_result"
    }
   ],
   "source": [
    "z = reseau_neurone(x, Wh, bh, Wo, bo, nh, no)\n",
    "z"
   ]
  },
  {
   "cell_type": "code",
   "execution_count": null,
   "id": "cc4f1240",
   "metadata": {},
   "outputs": [],
   "source": []
  }
 ],
 "metadata": {
  "kernelspec": {
   "display_name": "Python 3 (ipykernel)",
   "language": "python",
   "name": "python3"
  },
  "language_info": {
   "codemirror_mode": {
    "name": "ipython",
    "version": 3
   },
   "file_extension": ".py",
   "mimetype": "text/x-python",
   "name": "python",
   "nbconvert_exporter": "python",
   "pygments_lexer": "ipython3",
   "version": "3.9.13"
  }
 },
 "nbformat": 4,
 "nbformat_minor": 5
}
