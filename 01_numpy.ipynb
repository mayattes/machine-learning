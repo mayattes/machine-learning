{
 "cells": [
  {
   "cell_type": "code",
   "execution_count": null,
   "id": "2684e969",
   "metadata": {},
   "outputs": [],
   "source": [
    "4+7"
   ]
  },
  {
   "cell_type": "code",
   "execution_count": null,
   "id": "f6fa5c37",
   "metadata": {},
   "outputs": [],
   "source": []
  },
  {
   "cell_type": "code",
   "execution_count": null,
   "id": "da2e22b9",
   "metadata": {},
   "outputs": [],
   "source": [
    "9 + 10"
   ]
  },
  {
   "cell_type": "markdown",
   "id": "c43b3a72",
   "metadata": {},
   "source": [
    "# Bonjour tout le monde"
   ]
  },
  {
   "cell_type": "markdown",
   "id": "c24e42d0",
   "metadata": {},
   "source": [
    "# bonjour"
   ]
  },
  {
   "cell_type": "markdown",
   "id": "7dcb079b",
   "metadata": {},
   "source": [
    "## bonjour"
   ]
  },
  {
   "cell_type": "markdown",
   "id": "261ba292",
   "metadata": {},
   "source": [
    "### Bonjour"
   ]
  },
  {
   "cell_type": "code",
   "execution_count": null,
   "id": "6047764e",
   "metadata": {},
   "outputs": [],
   "source": []
  },
  {
   "cell_type": "code",
   "execution_count": null,
   "id": "53b0e61d",
   "metadata": {},
   "outputs": [],
   "source": []
  }
 ],
 "metadata": {
  "kernelspec": {
   "display_name": "Python 3 (ipykernel)",
   "language": "python",
   "name": "python3"
  },
  "language_info": {
   "codemirror_mode": {
    "name": "ipython",
    "version": 3
   },
   "file_extension": ".py",
   "mimetype": "text/x-python",
   "name": "python",
   "nbconvert_exporter": "python",
   "pygments_lexer": "ipython3",
   "version": "3.9.13"
  }
 },
 "nbformat": 4,
 "nbformat_minor": 5
}
