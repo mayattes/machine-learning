{
 "cells": [
  {
   "cell_type": "code",
   "execution_count": 6,
   "id": "4b494f26",
   "metadata": {},
   "outputs": [],
   "source": [
    "import pandas as pd\n",
    "import numpy as np\n",
    "from sklearn import linear_model\n",
    "import matplotlib.pyplot as plt\n",
    "%matplotlib inline"
   ]
  },
  {
   "cell_type": "markdown",
   "id": "99b9ac4a",
   "metadata": {},
   "source": [
    "### dataset d'entrainement"
   ]
  },
  {
   "cell_type": "code",
   "execution_count": 7,
   "id": "5b72672e",
   "metadata": {},
   "outputs": [
    {
     "data": {
      "text/html": [
       "<div>\n",
       "<style scoped>\n",
       "    .dataframe tbody tr th:only-of-type {\n",
       "        vertical-align: middle;\n",
       "    }\n",
       "\n",
       "    .dataframe tbody tr th {\n",
       "        vertical-align: top;\n",
       "    }\n",
       "\n",
       "    .dataframe thead th {\n",
       "        text-align: right;\n",
       "    }\n",
       "</style>\n",
       "<table border=\"1\" class=\"dataframe\">\n",
       "  <thead>\n",
       "    <tr style=\"text-align: right;\">\n",
       "      <th></th>\n",
       "      <th>Unnamed: 0</th>\n",
       "      <th>petal_length</th>\n",
       "      <th>petal_width</th>\n",
       "    </tr>\n",
       "  </thead>\n",
       "  <tbody>\n",
       "    <tr>\n",
       "      <th>0</th>\n",
       "      <td>22</td>\n",
       "      <td>1.0</td>\n",
       "      <td>0.2</td>\n",
       "    </tr>\n",
       "    <tr>\n",
       "      <th>1</th>\n",
       "      <td>15</td>\n",
       "      <td>1.5</td>\n",
       "      <td>0.4</td>\n",
       "    </tr>\n",
       "    <tr>\n",
       "      <th>2</th>\n",
       "      <td>65</td>\n",
       "      <td>4.4</td>\n",
       "      <td>1.4</td>\n",
       "    </tr>\n",
       "    <tr>\n",
       "      <th>3</th>\n",
       "      <td>11</td>\n",
       "      <td>1.6</td>\n",
       "      <td>0.2</td>\n",
       "    </tr>\n",
       "    <tr>\n",
       "      <th>4</th>\n",
       "      <td>42</td>\n",
       "      <td>1.3</td>\n",
       "      <td>0.2</td>\n",
       "    </tr>\n",
       "  </tbody>\n",
       "</table>\n",
       "</div>"
      ],
      "text/plain": [
       "   Unnamed: 0  petal_length  petal_width\n",
       "0          22           1.0          0.2\n",
       "1          15           1.5          0.4\n",
       "2          65           4.4          1.4\n",
       "3          11           1.6          0.2\n",
       "4          42           1.3          0.2"
      ]
     },
     "execution_count": 7,
     "metadata": {},
     "output_type": "execute_result"
    }
   ],
   "source": [
    "train = pd.read_csv('iris_train.csv')\n",
    "train.head()"
   ]
  },
  {
   "cell_type": "markdown",
   "id": "f89d1b2e",
   "metadata": {},
   "source": [
    "### dataset de test"
   ]
  },
  {
   "cell_type": "code",
   "execution_count": 8,
   "id": "eb3efa72",
   "metadata": {},
   "outputs": [
    {
     "data": {
      "text/html": [
       "<div>\n",
       "<style scoped>\n",
       "    .dataframe tbody tr th:only-of-type {\n",
       "        vertical-align: middle;\n",
       "    }\n",
       "\n",
       "    .dataframe tbody tr th {\n",
       "        vertical-align: top;\n",
       "    }\n",
       "\n",
       "    .dataframe thead th {\n",
       "        text-align: right;\n",
       "    }\n",
       "</style>\n",
       "<table border=\"1\" class=\"dataframe\">\n",
       "  <thead>\n",
       "    <tr style=\"text-align: right;\">\n",
       "      <th></th>\n",
       "      <th>Unnamed: 0</th>\n",
       "      <th>petal_length</th>\n",
       "      <th>petal_width</th>\n",
       "    </tr>\n",
       "  </thead>\n",
       "  <tbody>\n",
       "    <tr>\n",
       "      <th>0</th>\n",
       "      <td>73</td>\n",
       "      <td>4.7</td>\n",
       "      <td>1.2</td>\n",
       "    </tr>\n",
       "    <tr>\n",
       "      <th>1</th>\n",
       "      <td>18</td>\n",
       "      <td>1.7</td>\n",
       "      <td>0.3</td>\n",
       "    </tr>\n",
       "    <tr>\n",
       "      <th>2</th>\n",
       "      <td>118</td>\n",
       "      <td>6.9</td>\n",
       "      <td>2.3</td>\n",
       "    </tr>\n",
       "    <tr>\n",
       "      <th>3</th>\n",
       "      <td>78</td>\n",
       "      <td>4.5</td>\n",
       "      <td>1.5</td>\n",
       "    </tr>\n",
       "    <tr>\n",
       "      <th>4</th>\n",
       "      <td>76</td>\n",
       "      <td>4.8</td>\n",
       "      <td>1.4</td>\n",
       "    </tr>\n",
       "  </tbody>\n",
       "</table>\n",
       "</div>"
      ],
      "text/plain": [
       "   Unnamed: 0  petal_length  petal_width\n",
       "0          73           4.7          1.2\n",
       "1          18           1.7          0.3\n",
       "2         118           6.9          2.3\n",
       "3          78           4.5          1.5\n",
       "4          76           4.8          1.4"
      ]
     },
     "execution_count": 8,
     "metadata": {},
     "output_type": "execute_result"
    }
   ],
   "source": [
    "test = pd.read_csv('iris_test.csv')\n",
    "test.head()"
   ]
  },
  {
   "cell_type": "code",
   "execution_count": 10,
   "id": "13a71df8",
   "metadata": {},
   "outputs": [],
   "source": [
    "x_train = train['petal_length'].values\n",
    "y_train = train['petal_width'].values\n",
    "x_test = test['petal_length'].values\n",
    "y_test = test['petal_width'].values"
   ]
  },
  {
   "cell_type": "markdown",
   "id": "a406cba0",
   "metadata": {},
   "source": [
    "### dataset d'entrainement"
   ]
  },
  {
   "cell_type": "code",
   "execution_count": 13,
   "id": "16794306",
   "metadata": {},
   "outputs": [
    {
     "data": {
      "image/png": "[encoded data removed]",
      "text/plain": [
       "<Figure size 640x480 with 1 Axes>"
      ]
     },
     "metadata": {},
     "output_type": "display_data"
    }
   ],
   "source": [
    "plt.plot(x_train, Y_train, 'o')\n",
    "plt.title('X_validation')\n",
    "plt.xlabel('Longueur')\n",
    "plt.ylabel('Largeur')\n",
    "plt.show()"
   ]
  },
  {
   "cell_type": "markdown",
   "id": "e809663d",
   "metadata": {},
   "source": [
    "### dataset de test"
   ]
  },
  {
   "cell_type": "code",
   "execution_count": 27,
   "id": "3d29eb24",
   "metadata": {},
   "outputs": [
    {
     "data": {
      "image/png": "[encoded data removed]",
      "text/plain": [
       "<Figure size 640x480 with 1 Axes>"
      ]
     },
     "metadata": {},
     "output_type": "display_data"
    }
   ],
   "source": [
    "plt.plot(x_test, Y_test, 'o')\n",
    "plt.title('X_validation')\n",
    "plt.xlabel('Longueur')\n",
    "plt.ylabel('Largeur')\n",
    "plt.show()"
   ]
  },
  {
   "cell_type": "markdown",
   "id": "dd557b75",
   "metadata": {},
   "source": [
    "### conversion liste de donnée en colonne"
   ]
  },
  {
   "cell_type": "code",
   "execution_count": 35,
   "id": "a2bd009c",
   "metadata": {},
   "outputs": [],
   "source": [
    "X = x_train.reshape(-1,1)\n",
    "y = Y_train.reshape(-1, 1)\n",
    "\n",
    "modele = linear_model.LinearRegression()\n",
    "modele.fit(X, y)\n",
    "\n",
    "X_test = x_test.reshape(-1,1)\n",
    "y_test_pred = modele.predict(X_test)"
   ]
  },
  {
   "cell_type": "code",
   "execution_count": 45,
   "id": "32e2d00f",
   "metadata": {},
   "outputs": [
    {
     "data": {
      "image/png": "[encoded data removed]",
      "text/plain": [
       "<Figure size 640x480 with 1 Axes>"
      ]
     },
     "metadata": {},
     "output_type": "display_data"
    }
   ],
   "source": [
    "plt.plot(x_test, Y_test,'o', label='test')\n",
    "plt.plot(x_test, y_test_pred, label='predictions')\n",
    "plt.xlabel ('Longueur')\n",
    "plt.ylabel('Largeur')\n",
    "plt.legend()\n",
    "plt.show()"
   ]
  },
  {
   "cell_type": "code",
   "execution_count": 48,
   "id": "eaf51a06",
   "metadata": {},
   "outputs": [
    {
     "data": {
      "text/plain": [
       "0.04557819994873106"
      ]
     },
     "execution_count": 48,
     "metadata": {},
     "output_type": "execute_result"
    }
   ],
   "source": [
    "from sklearn.metrics import mean_squared_error, r2_score\n",
    "\n",
    "mse_test = mean_squared_error(Y_test, y_test_pred)\n",
    "mse_test"
   ]
  },
  {
   "cell_type": "code",
   "execution_count": 49,
   "id": "62b73313",
   "metadata": {},
   "outputs": [
    {
     "data": {
      "text/plain": [
       "0.21349051489171844"
      ]
     },
     "execution_count": 49,
     "metadata": {},
     "output_type": "execute_result"
    }
   ],
   "source": [
    "from math import sqrt\n",
    "sqrt(mse_test)"
   ]
  },
  {
   "cell_type": "code",
   "execution_count": 51,
   "id": "5b5353ab",
   "metadata": {},
   "outputs": [
    {
     "data": {
      "text/plain": [
       "0.9282973309202085"
      ]
     },
     "execution_count": 51,
     "metadata": {},
     "output_type": "execute_result"
    }
   ],
   "source": [
    "r2_test = r2_score(Y_test, y_test_pred)\n",
    "r2_test"
   ]
  },
  {
   "cell_type": "code",
   "execution_count": 54,
   "id": "ee5086d3",
   "metadata": {},
   "outputs": [
    {
     "name": "stdout",
     "output_type": "stream",
     "text": [
      "MSE train 0.04150255793397939\n",
      "MSE test 0.04557819994873106\n",
      "MSE train 0.20372176597992514\n",
      "MSE test 0.21349051489171844\n"
     ]
    }
   ],
   "source": [
    "y_train_pred = modele.predict(X)\n",
    "\n",
    "mse_train = mean_squared_error(Y_train, y_train_pred)\n",
    "print('MSE train', mse_train)\n",
    "print('MSE test', mse_test)\n",
    "print('MSE train', sqrt(mse_train))\n",
    "print('MSE test', sqrt(mse_test))"
   ]
  },
  {
   "cell_type": "code",
   "execution_count": null,
   "id": "082b9dac",
   "metadata": {},
   "outputs": [],
   "source": []
  }
 ],
 "metadata": {
  "kernelspec": {
   "display_name": "Python 3 (ipykernel)",
   "language": "python",
   "name": "python3"
  },
  "language_info": {
   "codemirror_mode": {
    "name": "ipython",
    "version": 3
   },
   "file_extension": ".py",
   "mimetype": "text/x-python",
   "name": "python",
   "nbconvert_exporter": "python",
   "pygments_lexer": "ipython3",
   "version": "3.9.13"
  }
 },
 "nbformat": 4,
 "nbformat_minor": 5
}
