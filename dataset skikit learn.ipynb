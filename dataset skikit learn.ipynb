{
 "cells": [
  {
   "cell_type": "code",
   "execution_count": 1,
   "id": "b7e44e49",
   "metadata": {},
   "outputs": [],
   "source": [
    "import numpy as np\n",
    "from random import randint\n",
    "from sklearn.datasets import load_digits\n",
    "import matplotlib.pyplot as plt\n",
    "%matplotlib inline"
   ]
  },
  {
   "cell_type": "code",
   "execution_count": 4,
   "id": "98881099",
   "metadata": {},
   "outputs": [
    {
     "name": "stdout",
     "output_type": "stream",
     "text": [
      "dict_keys(['data', 'target', 'frame', 'feature_names', 'target_names', 'images', 'DESCR'])\n",
      "[0 1 2 3 4 5 6 7 8 9]\n"
     ]
    }
   ],
   "source": [
    "dataset = load_digits()\n",
    "print(dataset.keys())\n",
    "print(dataset.target_names)"
   ]
  },
  {
   "cell_type": "code",
   "execution_count": 7,
   "id": "f326b08f",
   "metadata": {},
   "outputs": [
    {
     "name": "stdout",
     "output_type": "stream",
     "text": [
      "(1797, 8, 8)\n",
      "(1797, 64)\n",
      "(1797,)\n"
     ]
    }
   ],
   "source": [
    "images =dataset.images\n",
    "X = dataset.data\n",
    "y = dataset.target\n",
    "\n",
    "print(images.shape)\n",
    "print(X.shape)\n",
    "print(y.shape)"
   ]
  },
  {
   "cell_type": "code",
   "execution_count": 14,
   "id": "6464a8ca",
   "metadata": {},
   "outputs": [
    {
     "name": "stdout",
     "output_type": "stream",
     "text": [
      "300 7\n"
     ]
    },
    {
     "data": {
      "image/png": "[encoded data removed]",
      "text/plain": [
       "<Figure size 640x480 with 1 Axes>"
      ]
     },
     "metadata": {},
     "output_type": "display_data"
    }
   ],
   "source": [
    "idx = randint(0, images.shape[0])\n",
    "print(idx, y[idx])\n",
    "plt.imshow(images[idx], cmap='pink')\n",
    "plt.show()"
   ]
  },
  {
   "cell_type": "code",
   "execution_count": 15,
   "id": "24e45113",
   "metadata": {},
   "outputs": [
    {
     "name": "stdout",
     "output_type": "stream",
     "text": [
      "[[ 0.  0.  1. 11. 16. 16. 10.  0.]\n",
      " [ 0.  0. 13. 14.  8. 12. 11.  0.]\n",
      " [ 0.  0.  4.  0.  0. 13.  4.  0.]\n",
      " [ 0.  0.  0.  0.  3. 15.  0.  0.]\n",
      " [ 0.  0.  2. 15. 16. 16.  9.  0.]\n",
      " [ 0.  0.  3. 13. 16.  8.  1.  0.]\n",
      " [ 0.  0.  0.  7. 10.  0.  0.  0.]\n",
      " [ 0.  0.  0. 13.  3.  0.  0.  0.]]\n",
      "[ 0.  0.  1. 11. 16. 16. 10.  0.  0.  0. 13. 14.  8. 12. 11.  0.  0.  0.\n",
      "  4.  0.  0. 13.  4.  0.  0.  0.  0.  0.  3. 15.  0.  0.  0.  0.  2. 15.\n",
      " 16. 16.  9.  0.  0.  0.  3. 13. 16.  8.  1.  0.  0.  0.  0.  7. 10.  0.\n",
      "  0.  0.  0.  0.  0. 13.  3.  0.  0.  0.]\n"
     ]
    }
   ],
   "source": [
    "print(images[idx])\n",
    "print(X[idx])"
   ]
  },
  {
   "cell_type": "code",
   "execution_count": 17,
   "id": "6a70ce79",
   "metadata": {},
   "outputs": [
    {
     "data": {
      "image/png": "[encoded data removed]",
      "text/plain": [
       "<Figure size 640x480 with 1 Axes>"
      ]
     },
     "metadata": {},
     "output_type": "display_data"
    }
   ],
   "source": [
    "plt.hist(y)\n",
    "plt.show()"
   ]
  },
  {
   "cell_type": "code",
   "execution_count": 18,
   "id": "c349241d",
   "metadata": {},
   "outputs": [],
   "source": [
    "from sklearn.model_selection import train_test_split\n",
    "\n",
    "X_train, X_test, y_train, y_test = train_test_split(X, y, test_size=0.2, shuffle=True, random_state=42)"
   ]
  },
  {
   "cell_type": "code",
   "execution_count": 19,
   "id": "adafbbb5",
   "metadata": {},
   "outputs": [
    {
     "name": "stdout",
     "output_type": "stream",
     "text": [
      "(1437, 64)\n",
      "(360, 64)\n"
     ]
    }
   ],
   "source": [
    "print(X_train.shape)\n",
    "print(X_test.shape)"
   ]
  },
  {
   "cell_type": "code",
   "execution_count": 20,
   "id": "38ef7209",
   "metadata": {},
   "outputs": [
    {
     "data": {
      "text/plain": [
       "array([6, 0, 0, 3, 0, 5, 0, 0, 4, 1])"
      ]
     },
     "execution_count": 20,
     "metadata": {},
     "output_type": "execute_result"
    }
   ],
   "source": [
    "y_train[:10]"
   ]
  },
  {
   "cell_type": "code",
   "execution_count": 22,
   "id": "efbd22ea",
   "metadata": {},
   "outputs": [
    {
     "data": {
      "text/plain": [
       "array([ 0.,  0.,  3., 14.,  1.,  0.,  0.,  0.,  0.,  0., 12., 12.,  0.,\n",
       "        0.,  0.,  0.,  0.,  3., 16.,  6.,  0.,  0.,  0.,  0.,  0.,  5.,\n",
       "       16.,  2.,  0.,  0.,  0.,  0.,  0.,  6., 16.,  2.,  5.,  2.,  0.,\n",
       "        0.,  0.,  4., 16.,  2., 12., 15.,  2.,  0.,  0.,  1., 14., 13.,\n",
       "        2., 13., 11.,  0.,  0.,  0.,  3., 11., 16., 13.,  4.,  0.])"
      ]
     },
     "execution_count": 22,
     "metadata": {},
     "output_type": "execute_result"
    }
   ],
   "source": [
    "X_train[0,:]"
   ]
  },
  {
   "cell_type": "code",
   "execution_count": 26,
   "id": "6211b41f",
   "metadata": {},
   "outputs": [
    {
     "data": {
      "text/plain": [
       "array([[ 0.00000000e+00, -3.41697551e-01, -4.63360494e-01,\n",
       "         5.08364617e-01, -2.54590607e+00, -1.03722581e+00,\n",
       "        -4.06234236e-01, -1.31018742e-01, -6.10349239e-02,\n",
       "        -6.17254025e-01,  3.08814254e-01,  3.48328178e-03,\n",
       "        -2.18152552e+00, -1.35608548e+00, -5.24655046e-01,\n",
       "        -1.33360048e-01, -4.99152161e-02,  1.28519106e-01,\n",
       "         1.08857992e+00, -1.93437369e-01, -1.16010978e+00,\n",
       "        -1.27307852e+00, -5.52537005e-01, -1.14092482e-01,\n",
       "        -3.73326696e-02,  8.63651512e-01,  1.13744682e+00,\n",
       "        -1.16195968e+00, -1.60835913e+00, -1.28296188e+00,\n",
       "        -6.25548724e-01, -4.57389354e-02,  0.00000000e+00,\n",
       "         1.09151514e+00,  1.34318585e+00, -1.12678131e+00,\n",
       "        -9.01065554e-01, -1.13185292e+00, -8.13472407e-01,\n",
       "         0.00000000e+00, -6.51902857e-02,  8.28289458e-01,\n",
       "         1.39981472e+00, -8.25408585e-01,  6.91771778e-01,\n",
       "         1.17865528e+00, -3.37842462e-01, -9.40343404e-02,\n",
       "        -3.96300945e-02,  1.59557972e-01,  1.14244768e+00,\n",
       "         6.45079539e-01, -1.42282149e+00,  6.89179122e-01,\n",
       "         1.47990131e+00, -2.16084052e-01, -2.63889907e-02,\n",
       "        -3.06776457e-01, -4.99622440e-01, -2.46272003e-01,\n",
       "         8.48043851e-01,  1.05270303e+00,  4.59522510e-01,\n",
       "        -1.97100033e-01],\n",
       "       [ 0.00000000e+00, -3.41697551e-01,  7.84716412e-01,\n",
       "        -6.58600167e-01, -1.84460249e+00, -1.03722581e+00,\n",
       "        -4.06234236e-01, -1.31018742e-01, -6.10349239e-02,\n",
       "        -6.17254025e-01,  8.58937497e-01,  7.54304670e-01,\n",
       "         7.61997646e-01,  6.07005356e-01, -5.24655046e-01,\n",
       "        -1.33360048e-01, -4.99152161e-02,  1.28519106e-01,\n",
       "         3.77809870e-02, -1.04767677e+00, -1.16010978e+00,\n",
       "         6.57361681e-01,  9.68527508e-01, -1.14092482e-01,\n",
       "        -3.73326696e-02,  8.63651512e-01, -1.55679035e-01,\n",
       "        -1.49945054e+00, -1.60835913e+00,  7.65117835e-02,\n",
       "         9.87334380e-01, -4.57389354e-02,  0.00000000e+00,\n",
       "         1.67384566e+00,  7.35538380e-02, -1.44495478e+00,\n",
       "        -1.74526375e+00, -1.06765117e-01,  1.45911053e+00,\n",
       "         0.00000000e+00, -6.51902857e-02,  1.16537582e+00,\n",
       "         1.74297240e-01, -1.13725613e+00, -1.23504336e+00,\n",
       "         3.03524744e-01,  5.84246081e-01, -9.40343404e-02,\n",
       "        -3.96300945e-02,  1.84547567e+00,  9.65311582e-01,\n",
       "        -1.07225551e+00, -6.60339864e-01,  6.89179122e-01,\n",
       "        -7.63797137e-01, -2.16084052e-01, -2.63889907e-02,\n",
       "        -3.06776457e-01,  8.50334609e-02,  8.91647187e-01,\n",
       "         4.39035959e-01, -6.44519289e-01, -5.06230831e-01,\n",
       "        -1.97100033e-01],\n",
       "       [ 0.00000000e+00, -3.41697551e-01, -1.08739895e+00,\n",
       "        -4.25207210e-01,  2.59308260e-01, -5.04526205e-01,\n",
       "        -4.06234236e-01, -1.31018742e-01, -6.10349239e-02,\n",
       "        -6.17254025e-01, -4.24683404e-01,  1.00457847e+00,\n",
       "         7.61997646e-01,  6.07005356e-01, -5.24655046e-01,\n",
       "        -1.33360048e-01, -4.99152161e-02,  1.28519106e-01,\n",
       "         1.08857992e+00,  1.00249779e+00, -1.16010978e+00,\n",
       "         9.79101714e-01, -2.48324102e-01, -1.14092482e-01,\n",
       "        -3.73326696e-02,  8.63651512e-01,  1.13744682e+00,\n",
       "        -4.86977946e-01, -1.60835913e+00,  1.09611703e+00,\n",
       "         7.18520529e-01, -4.57389354e-02,  0.00000000e+00,\n",
       "         1.09151514e+00,  1.34318585e+00, -1.44495478e+00,\n",
       "        -1.74526375e+00,  1.08917065e+00,  3.22819062e-01,\n",
       "         0.00000000e+00, -6.51902857e-02,  1.54116730e-01,\n",
       "         9.40245664e-01, -9.81332357e-01, -4.32203721e-01,\n",
       "         1.35368138e+00,  1.23201809e-01, -9.40343404e-02,\n",
       "        -3.96300945e-02, -4.02414592e-01,  4.33903303e-01,\n",
       "         1.21752456e+00,  1.24586420e+00,  8.55624567e-01,\n",
       "        -5.59824551e-01, -2.16084052e-01, -2.63889907e-02,\n",
       "        -3.06776457e-01, -6.94507740e-01, -2.46272003e-01,\n",
       "         2.34532013e-01, -1.35352594e-01, -5.06230831e-01,\n",
       "        -1.97100033e-01],\n",
       "       [ 0.00000000e+00,  7.59242764e-01,  9.92729230e-01,\n",
       "         9.75150531e-01,  9.60611843e-01,  9.16006063e-01,\n",
       "        -4.06234236e-01, -1.31018742e-01, -6.10349239e-02,\n",
       "         9.38875859e-01, -5.79345749e-02, -9.97611903e-01,\n",
       "         3.41494337e-01,  1.26136897e+00,  5.78790693e-01,\n",
       "        -1.33360048e-01, -4.99152161e-02, -7.18645824e-01,\n",
       "        -1.71355057e+00, -1.04767677e+00,  4.65673088e-01,\n",
       "         9.79101714e-01, -5.52537005e-01, -1.14092482e-01,\n",
       "        -3.73326696e-02, -7.70191593e-01, -1.44880489e+00,\n",
       "        -4.86977946e-01,  9.87779110e-01, -6.03225050e-01,\n",
       "        -6.25548724e-01, -4.57389354e-02,  0.00000000e+00,\n",
       "        -6.55476421e-01, -1.19607818e+00, -3.31347659e-01,\n",
       "         9.56170488e-01, -6.19309016e-01, -8.13472407e-01,\n",
       "         0.00000000e+00, -6.51902857e-02, -5.20055998e-01,\n",
       "        -1.05122024e+00, -9.81332357e-01,  6.91771778e-01,\n",
       "         1.35368138e+00,  1.23201809e-01, -9.40343404e-02,\n",
       "        -3.96300945e-02, -4.02414592e-01, -9.83185440e-01,\n",
       "        -1.07225551e+00, -8.84786439e-02,  1.18851546e+00,\n",
       "         5.20932075e-02, -2.16084052e-01, -2.63889907e-02,\n",
       "         7.81711861e-01,  1.83900116e+00,  4.36479511e-01,\n",
       "        -1.74475879e-01, -4.74797058e-01, -5.06230831e-01,\n",
       "        -1.97100033e-01],\n",
       "       [ 0.00000000e+00, -3.41697551e-01,  1.60677959e-01,\n",
       "         5.08364617e-01,  2.59308260e-01, -5.04526205e-01,\n",
       "        -4.06234236e-01, -1.31018742e-01, -6.10349239e-02,\n",
       "        -6.17254025e-01,  6.75563083e-01, -4.97064311e-01,\n",
       "        -7.09763937e-01,  7.70596259e-01, -5.24655046e-01,\n",
       "        -1.33360048e-01, -4.99152161e-02,  4.10907415e-01,\n",
       "         5.63180455e-01, -1.21852465e+00, -1.16010978e+00,\n",
       "         6.57361681e-01,  3.60101703e-01, -1.14092482e-01,\n",
       "        -3.73326696e-02,  8.63651512e-01,  3.29243161e-01,\n",
       "        -1.49945054e+00, -1.60835913e+00, -9.34224249e-02,\n",
       "         9.87334380e-01, -4.57389354e-02,  0.00000000e+00,\n",
       "         5.09184620e-01,  5.49665843e-01, -1.44495478e+00,\n",
       "        -1.74526375e+00, -7.90156983e-01,  1.45911053e+00,\n",
       "         0.00000000e+00, -6.51902857e-02,  1.54116730e-01,\n",
       "         7.87055979e-01, -1.13725613e+00, -1.23504336e+00,\n",
       "        -3.96579682e-01,  5.84246081e-01, -9.40343404e-02,\n",
       "        -3.96300945e-02, -4.02414592e-01,  7.88175489e-01,\n",
       "        -3.08995489e-01, -1.42282149e+00,  8.55624567e-01,\n",
       "        -3.55851965e-01, -2.16084052e-01, -2.63889907e-02,\n",
       "        -3.06776457e-01, -3.04737140e-01,  6.64063349e-01,\n",
       "         8.48043851e-01,  3.73814101e-01, -5.06230831e-01,\n",
       "        -1.97100033e-01],\n",
       "       [ 0.00000000e+00, -3.41697551e-01,  1.61676768e+00,\n",
       "         9.75150531e-01,  9.60611843e-01,  1.80383873e+00,\n",
       "         3.42652423e+00, -1.31018742e-01, -6.10349239e-02,\n",
       "         6.27649882e-01,  1.04231191e+00, -7.47338107e-01,\n",
       "        -4.99512282e-01, -5.38130967e-01,  5.78790693e-01,\n",
       "        -1.33360048e-01, -4.99152161e-02,  1.82284896e+00,\n",
       "         9.13446768e-01, -2.25894900e-02,  1.40516515e-01,\n",
       "        -9.51338482e-01, -5.52537005e-01, -1.14092482e-01,\n",
       "        -3.73326696e-02,  2.82426324e+00,  1.13744682e+00,\n",
       "         1.20047638e+00,  6.63261830e-01,  1.26605124e+00,\n",
       "        -3.56734874e-01, -4.57389354e-02,  0.00000000e+00,\n",
       "        -3.64311161e-01, -7.19966171e-01, -1.44495478e+00,\n",
       "        -1.06990519e+00,  1.26001861e+00,  3.22819062e-01,\n",
       "         0.00000000e+00, -6.51902857e-02, -5.20055998e-01,\n",
       "        -1.05122024e+00, -1.13725613e+00,  4.95000642e-02,\n",
       "         1.00362917e+00, -7.98886733e-01, -9.40343404e-02,\n",
       "        -3.96300945e-02, -4.02414592e-01,  6.11039396e-01,\n",
       "        -3.08995489e-01,  1.24586420e+00, -4.75938994e-01,\n",
       "        -7.63797137e-01, -2.16084052e-01, -2.63889907e-02,\n",
       "         7.81711861e-01,  1.83900116e+00,  8.91647187e-01,\n",
       "        -3.78979825e-01, -1.15368598e+00, -5.06230831e-01,\n",
       "        -1.97100033e-01],\n",
       "       [ 0.00000000e+00, -3.41697551e-01, -1.08739895e+00,\n",
       "        -6.58600167e-01, -9.09531044e-01, -8.59659272e-01,\n",
       "        -4.06234236e-01, -1.31018742e-01, -6.10349239e-02,\n",
       "        -6.17254025e-01, -9.74806647e-01,  1.00457847e+00,\n",
       "         1.18250096e+00, -4.73582573e-02, -5.24655046e-01,\n",
       "        -1.33360048e-01, -4.99152161e-02,  4.10907415e-01,\n",
       "         1.08857992e+00,  1.34419354e+00, -9.97531491e-01,\n",
       "         1.13997173e+00, -5.52537005e-01, -1.14092482e-01,\n",
       "        -3.73326696e-02,  1.19042013e+00,  1.13744682e+00,\n",
       "         5.25494649e-01, -1.60835913e+00,  7.56248617e-01,\n",
       "        -3.56734874e-01, -4.57389354e-02,  0.00000000e+00,\n",
       "         8.00349880e-01,  1.34318585e+00,  3.04999265e-01,\n",
       "        -1.74526375e+00,  4.05778781e-01,  8.90964796e-01,\n",
       "         0.00000000e+00, -6.51902857e-02, -1.82969634e-01,\n",
       "         1.24662503e+00,  1.10134049e-01, -5.92771650e-01,\n",
       "         1.17865528e+00,  5.84246081e-01, -9.40343404e-02,\n",
       "        -3.96300945e-02, -4.02414592e-01, -4.51777161e-01,\n",
       "         1.21752456e+00,  1.24586420e+00,  1.02207001e+00,\n",
       "        -7.63797137e-01, -2.16084052e-01, -2.63889907e-02,\n",
       "        -3.06776457e-01, -1.08427834e+00, -1.15660735e+00,\n",
       "         4.39035959e-01,  3.73814101e-01, -5.06230831e-01,\n",
       "        -1.97100033e-01],\n",
       "       [ 0.00000000e+00, -3.41697551e-01, -4.63360494e-01,\n",
       "        -1.91814253e-01,  9.60611843e-01,  7.38439530e-01,\n",
       "        -4.06234236e-01, -1.31018742e-01, -6.10349239e-02,\n",
       "        -6.17254025e-01, -5.79345749e-02,  1.00457847e+00,\n",
       "        -7.90089725e-02,  9.34187162e-01,  1.13051356e+00,\n",
       "        -1.33360048e-01, -4.99152161e-02, -7.18645824e-01,\n",
       "         9.13446768e-01, -2.25894900e-02, -1.16010978e+00,\n",
       "         4.96491665e-01,  1.88116622e+00, -1.14092482e-01,\n",
       "        -3.73326696e-02,  2.10114270e-01,  1.13744682e+00,\n",
       "        -1.16195968e+00, -1.60835913e+00,  7.65117835e-02,\n",
       "         1.52496208e+00, -4.57389354e-02,  0.00000000e+00,\n",
       "         5.09184620e-01,  7.08369845e-01, -1.44495478e+00,\n",
       "        -1.74526375e+00,  6.40828489e-02,  1.45911053e+00,\n",
       "         0.00000000e+00, -6.51902857e-02,  1.50246219e+00,\n",
       "         1.24662503e+00, -9.81332357e-01, -1.23504336e+00,\n",
       "         6.53576957e-01,  1.04529035e+00, -9.40343404e-02,\n",
       "        -3.96300945e-02,  1.28350310e+00,  1.31958377e+00,\n",
       "         7.26345220e-02, -2.79099051e-01,  1.02207001e+00,\n",
       "         5.20932075e-02, -2.16084052e-01, -2.63889907e-02,\n",
       "        -3.06776457e-01, -1.09851839e-01, -1.86881648e-02,\n",
       "         4.39035959e-01,  3.73814101e-01, -5.06230831e-01,\n",
       "        -1.97100033e-01],\n",
       "       [ 0.00000000e+00, -3.41697551e-01, -1.08739895e+00,\n",
       "        -6.58600167e-01,  2.59308260e-01, -1.03722581e+00,\n",
       "        -4.06234236e-01, -1.31018742e-01, -6.10349239e-02,\n",
       "        -6.17254025e-01, -1.34155548e+00,  7.54304670e-01,\n",
       "        -9.20015591e-01,  6.07005356e-01, -5.24655046e-01,\n",
       "        -1.33360048e-01, -4.99152161e-02, -4.36257514e-01,\n",
       "         3.88047299e-01,  1.48258389e-01, -3.47218345e-01,\n",
       "         9.79101714e-01, -5.52537005e-01, -1.14092482e-01,\n",
       "        -3.73326696e-02,  1.19042013e+00,  8.14165358e-01,\n",
       "        -1.49945054e+00,  3.38744551e-01, -9.34224249e-02,\n",
       "        -6.25548724e-01, -4.57389354e-02,  0.00000000e+00,\n",
       "         3.42083722e+00, -2.43854166e-01, -1.12678131e+00,\n",
       "         9.56170488e-01,  6.40828489e-02,  6.06891929e-01,\n",
       "         0.00000000e+00, -6.51902857e-02,  4.87332583e+00,\n",
       "         9.40245664e-01,  8.89752911e-01,  1.33404349e+00,\n",
       "         1.17865528e+00,  1.23201809e-01, -9.40343404e-02,\n",
       "         4.34101959e+00,  8.02717387e+00,  1.49671986e+00,\n",
       "         1.21752456e+00,  4.83382577e-01, -1.14172077e+00,\n",
       "        -7.63797137e-01, -2.16084052e-01, -2.63889907e-02,\n",
       "         2.95868850e+00, -4.99622440e-01,  2.08895673e-01,\n",
       "        -1.60600350e+00, -1.15368598e+00, -5.06230831e-01,\n",
       "        -1.97100033e-01],\n",
       "       [ 0.00000000e+00, -3.41697551e-01, -1.08739895e+00,\n",
       "        -1.59217200e+00,  9.60611843e-01,  3.83306463e-01,\n",
       "        -4.06234236e-01, -1.31018742e-01, -6.10349239e-02,\n",
       "        -6.17254025e-01, -1.15818106e+00,  1.00457847e+00,\n",
       "         1.18250096e+00, -4.73582573e-02, -5.24655046e-01,\n",
       "        -1.33360048e-01, -4.99152161e-02, -1.53869204e-01,\n",
       "         9.13446768e-01,  1.51504142e+00,  1.44114281e+00,\n",
       "         1.38816159e-02, -5.52537005e-01, -1.14092482e-01,\n",
       "        -3.73326696e-02,  5.36882891e-01, -1.55679035e-01,\n",
       "         5.25494649e-01,  9.87779110e-01, -4.33290842e-01,\n",
       "        -6.25548724e-01, -4.57389354e-02,  0.00000000e+00,\n",
       "        -6.55476421e-01, -1.19607818e+00, -4.90434390e-01,\n",
       "         9.56170488e-01,  4.05778781e-01, -8.13472407e-01,\n",
       "         0.00000000e+00, -6.51902857e-02, -5.20055998e-01,\n",
       "        -1.05122024e+00, -2.01713495e-01,  1.33404349e+00,\n",
       "         6.53576957e-01, -7.98886733e-01, -9.40343404e-02,\n",
       "        -3.96300945e-02, -4.02414592e-01, -1.33745763e+00,\n",
       "        -6.90625501e-01,  1.24586420e+00,  1.02207001e+00,\n",
       "        -5.59824551e-01, -2.16084052e-01, -2.63889907e-02,\n",
       "        -3.06776457e-01, -1.08427834e+00, -1.83935887e+00,\n",
       "         6.43539905e-01,  7.13258565e-01, -2.33541605e-02,\n",
       "        -1.97100033e-01]])"
      ]
     },
     "execution_count": 26,
     "metadata": {},
     "output_type": "execute_result"
    }
   ],
   "source": [
    "from sklearn.preprocessing import StandardScaler\n",
    "sc = StandardScaler()\n",
    "sc.fit(X_train)\n",
    "\n",
    "X_train_t =sc.transform(X_train)\n",
    "X_test_t =sc.transform(X_test)\n",
    "X_train_t[:10]"
   ]
  },
  {
   "cell_type": "code",
   "execution_count": 31,
   "id": "767da612",
   "metadata": {},
   "outputs": [],
   "source": [
    "from sklearn.neural_network import MLPClassifier\n",
    "from sklearn.metrics import accuracy_score\n",
    "\n",
    "clf = MLPClassifier(hidden_layer_sizes= (100, 10), alpha=1e-4, activation='relu', shuffle=True, max_iter=10000)"
   ]
  },
  {
   "cell_type": "code",
   "execution_count": 32,
   "id": "c60e7e6e",
   "metadata": {},
   "outputs": [
    {
     "data": {
      "text/html": [
       "<style>#sk-container-id-2 {color: black;background-color: white;}#sk-container-id-2 pre{padding: 0;}#sk-container-id-2 div.sk-toggleable {background-color: white;}#sk-container-id-2 label.sk-toggleable__label {cursor: pointer;display: block;width: 100%;margin-bottom: 0;padding: 0.3em;box-sizing: border-box;text-align: center;}#sk-container-id-2 label.sk-toggleable__label-arrow:before {content: \"▸\";float: left;margin-right: 0.25em;color: #696969;}#sk-container-id-2 label.sk-toggleable__label-arrow:hover:before {color: black;}#sk-container-id-2 div.sk-estimator:hover label.sk-toggleable__label-arrow:before {color: black;}#sk-container-id-2 div.sk-toggleable__content {max-height: 0;max-width: 0;overflow: hidden;text-align: left;background-color: #f0f8ff;}#sk-container-id-2 div.sk-toggleable__content pre {margin: 0.2em;color: black;border-radius: 0.25em;background-color: #f0f8ff;}#sk-container-id-2 input.sk-toggleable__control:checked~div.sk-toggleable__content {max-height: 200px;max-width: 100%;overflow: auto;}#sk-container-id-2 input.sk-toggleable__control:checked~label.sk-toggleable__label-arrow:before {content: \"▾\";}#sk-container-id-2 div.sk-estimator input.sk-toggleable__control:checked~label.sk-toggleable__label {background-color: #d4ebff;}#sk-container-id-2 div.sk-label input.sk-toggleable__control:checked~label.sk-toggleable__label {background-color: #d4ebff;}#sk-container-id-2 input.sk-hidden--visually {border: 0;clip: rect(1px 1px 1px 1px);clip: rect(1px, 1px, 1px, 1px);height: 1px;margin: -1px;overflow: hidden;padding: 0;position: absolute;width: 1px;}#sk-container-id-2 div.sk-estimator {font-family: monospace;background-color: #f0f8ff;border: 1px dotted black;border-radius: 0.25em;box-sizing: border-box;margin-bottom: 0.5em;}#sk-container-id-2 div.sk-estimator:hover {background-color: #d4ebff;}#sk-container-id-2 div.sk-parallel-item::after {content: \"\";width: 100%;border-bottom: 1px solid gray;flex-grow: 1;}#sk-container-id-2 div.sk-label:hover label.sk-toggleable__label {background-color: #d4ebff;}#sk-container-id-2 div.sk-serial::before {content: \"\";position: absolute;border-left: 1px solid gray;box-sizing: border-box;top: 0;bottom: 0;left: 50%;z-index: 0;}#sk-container-id-2 div.sk-serial {display: flex;flex-direction: column;align-items: center;background-color: white;padding-right: 0.2em;padding-left: 0.2em;position: relative;}#sk-container-id-2 div.sk-item {position: relative;z-index: 1;}#sk-container-id-2 div.sk-parallel {display: flex;align-items: stretch;justify-content: center;background-color: white;position: relative;}#sk-container-id-2 div.sk-item::before, #sk-container-id-2 div.sk-parallel-item::before {content: \"\";position: absolute;border-left: 1px solid gray;box-sizing: border-box;top: 0;bottom: 0;left: 50%;z-index: -1;}#sk-container-id-2 div.sk-parallel-item {display: flex;flex-direction: column;z-index: 1;position: relative;background-color: white;}#sk-container-id-2 div.sk-parallel-item:first-child::after {align-self: flex-end;width: 50%;}#sk-container-id-2 div.sk-parallel-item:last-child::after {align-self: flex-start;width: 50%;}#sk-container-id-2 div.sk-parallel-item:only-child::after {width: 0;}#sk-container-id-2 div.sk-dashed-wrapped {border: 1px dashed gray;margin: 0 0.4em 0.5em 0.4em;box-sizing: border-box;padding-bottom: 0.4em;background-color: white;}#sk-container-id-2 div.sk-label label {font-family: monospace;font-weight: bold;display: inline-block;line-height: 1.2em;}#sk-container-id-2 div.sk-label-container {text-align: center;}#sk-container-id-2 div.sk-container {/* jupyter's `normalize.less` sets `[hidden] { display: none; }` but bootstrap.min.css set `[hidden] { display: none !important; }` so we also need the `!important` here to be able to override the default hidden behavior on the sphinx rendered scikit-learn.org. See: https://github.com/scikit-learn/scikit-learn/issues/21755 */display: inline-block !important;position: relative;}#sk-container-id-2 div.sk-text-repr-fallback {display: none;}</style><div id=\"sk-container-id-2\" class=\"sk-top-container\"><div class=\"sk-text-repr-fallback\"><pre>MLPClassifier(hidden_layer_sizes=(100, 10), max_iter=10000)</pre><b>In a Jupyter environment, please rerun this cell to show the HTML representation or trust the notebook. <br />On GitHub, the HTML representation is unable to render, please try loading this page with nbviewer.org.</b></div><div class=\"sk-container\" hidden><div class=\"sk-item\"><div class=\"sk-estimator sk-toggleable\"><input class=\"sk-toggleable__control sk-hidden--visually\" id=\"sk-estimator-id-2\" type=\"checkbox\" checked><label for=\"sk-estimator-id-2\" class=\"sk-toggleable__label sk-toggleable__label-arrow\">MLPClassifier</label><div class=\"sk-toggleable__content\"><pre>MLPClassifier(hidden_layer_sizes=(100, 10), max_iter=10000)</pre></div></div></div></div></div>"
      ],
      "text/plain": [
       "MLPClassifier(hidden_layer_sizes=(100, 10), max_iter=10000)"
      ]
     },
     "execution_count": 32,
     "metadata": {},
     "output_type": "execute_result"
    }
   ],
   "source": [
    "clf.fit(X_train, y_train )"
   ]
  },
  {
   "cell_type": "code",
   "execution_count": 37,
   "id": "55fe81c8",
   "metadata": {},
   "outputs": [],
   "source": [
    "y_pred_test = clf.predict(X_test_t)\n",
    "y_pred_train = clf.predict(X_train_t)"
   ]
  },
  {
   "cell_type": "code",
   "execution_count": 38,
   "id": "151b8e02",
   "metadata": {},
   "outputs": [
    {
     "name": "stdout",
     "output_type": "stream",
     "text": [
      "justesse 0.8427279053583855 0.8361111111111111\n"
     ]
    }
   ],
   "source": [
    "exactitude_test = accuracy_score(y_pred_test, y_test)\n",
    "exactitude_train = accuracy_score(y_pred_train, y_train)\n",
    "\n",
    "print('justesse', exactitude_train, exactitude_test)\n"
   ]
  },
  {
   "cell_type": "code",
   "execution_count": 41,
   "id": "bc09a918",
   "metadata": {},
   "outputs": [
    {
     "name": "stdout",
     "output_type": "stream",
     "text": [
      "idx 25 label 6\n"
     ]
    },
    {
     "data": {
      "image/png": "[encoded data removed]",
      "text/plain": [
       "<Figure size 640x480 with 1 Axes>"
      ]
     },
     "metadata": {},
     "output_type": "display_data"
    },
    {
     "name": "stdout",
     "output_type": "stream",
     "text": [
      "Prédiction [6]\n"
     ]
    }
   ],
   "source": [
    "idx = randint(0, X_test.shape[0])\n",
    "print('idx', idx, 'label', y_test[idx])\n",
    "x_test = X_test[idx]\n",
    "image = x_test.reshape(8,8)\n",
    "plt.imshow(image, cmap='pink')\n",
    "plt.show()\n",
    "\n",
    "x_test_sdt = sc.transform([x_test])\n",
    "label = clf.predict(x_test_sdt)\n",
    "print('Prédiction', label)"
   ]
  },
  {
   "cell_type": "code",
   "execution_count": null,
   "id": "b814a931",
   "metadata": {},
   "outputs": [],
   "source": []
  },
  {
   "cell_type": "code",
   "execution_count": null,
   "id": "8f491195",
   "metadata": {},
   "outputs": [],
   "source": []
  },
  {
   "cell_type": "code",
   "execution_count": null,
   "id": "e657d9b2",
   "metadata": {},
   "outputs": [],
   "source": []
  },
  {
   "cell_type": "code",
   "execution_count": null,
   "id": "ac93601a",
   "metadata": {},
   "outputs": [],
   "source": []
  },
  {
   "cell_type": "code",
   "execution_count": null,
   "id": "618de5f5",
   "metadata": {},
   "outputs": [],
   "source": []
  },
  {
   "cell_type": "code",
   "execution_count": null,
   "id": "70765cb4",
   "metadata": {},
   "outputs": [],
   "source": []
  }
 ],
 "metadata": {
  "kernelspec": {
   "display_name": "Python 3 (ipykernel)",
   "language": "python",
   "name": "python3"
  },
  "language_info": {
   "codemirror_mode": {
    "name": "ipython",
    "version": 3
   },
   "file_extension": ".py",
   "mimetype": "text/x-python",
   "name": "python",
   "nbconvert_exporter": "python",
   "pygments_lexer": "ipython3",
   "version": "3.9.13"
  }
 },
 "nbformat": 4,
 "nbformat_minor": 5
}
